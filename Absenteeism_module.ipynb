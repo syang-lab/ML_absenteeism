{
 "cells": [
  {
   "cell_type": "code",
   "execution_count": 1,
   "metadata": {},
   "outputs": [],
   "source": [
    "import numpy as np\n",
    "import pandas as pd\n",
    "from sklearn.preprocessing import MinMaxScaler\n",
    "from sklearn.metrics import confusion_matrix\n",
    "from sklearn.metrics import f1_score"
   ]
  },
  {
   "cell_type": "code",
   "execution_count": 2,
   "metadata": {},
   "outputs": [],
   "source": [
    "class absenteeism_model():\n",
    "    \"\"\"This model is used to predict absenteeism of new data\"\"\"\n",
    "    def __init__(self,model_file):\n",
    "        with open('absenteeism_model','rb') as file:\n",
    "            self.classifier = pickle.load(file)\n",
    "            self.data = None\n",
    "    \n",
    "    def data_preprocess(self, data_file):\n",
    "        raw_data = pd.read_csv(data_file)\n",
    "        data_preprocessed = raw_data.drop(['ID'],axis = 1)\n",
    "        # encode the categorical data # group similar absence reasons together\n",
    "        reason_columns = pd.get_dummies(data_preprocessed['Reason for Absence'], drop_first = True)\n",
    "        reason_type_1 = reason_columns.loc[:,1:14].max(axis=1)\n",
    "        reason_type_2 = reason_columns.loc[:,15:17].max(axis=1)\n",
    "        reason_type_3 = reason_columns.loc[:,18:21].max(axis=1)\n",
    "        reason_type_4 = reason_columns.loc[:,22:].max(axis=1)\n",
    "        \n",
    "        data_preprocessed = pd.concat([reason_type_1,reason_type_2,reason_type_3,reason_type_4,data_preprocessed], axis = 1)\n",
    "        # reason1: various diseases, reason2: pregnancy reason3: poisoning reason4: light diseases\n",
    "        column_names = ['Reason_1', 'Reason_2', 'Reason_3', 'Reason_4','Reason for Absence', 'Date', 'Transportation Expense','Distance to Work', 'Age', 'Daily Work Load Average','Body Mass Index', 'Education', 'Children', 'Pets','Absenteeism Time in Hours']\n",
    "        data_preprocessed.columns = column_names\n",
    "        data_preprocessed = data_preprocessed.drop(['Reason for Absence','Date'], axis =1)\n",
    "        \n",
    "        data_preprocessed.to_csv('data_preprocessed')\n",
    "        self.data = data_preprocessed\n",
    "        \n",
    "    def scaled_feature(self, data_file):\n",
    "        self.x= self.data.iloc[:,:].values\n",
    "        mms = MinMaxScaler()\n",
    "        self.x = mms.fit_transform(self.x)\n",
    "    \n",
    "    def predict_outputs(self):\n",
    "        if (self.data is not None):\n",
    "            self.y_pred = self.classifier.predict(self.x)\n",
    "        self.data['prediction'] = self.y_pred\n",
    "        return self.y_pred;        "
   ]
  }
 ],
 "metadata": {
  "kernelspec": {
   "display_name": "Python 3",
   "language": "python",
   "name": "python3"
  },
  "language_info": {
   "codemirror_mode": {
    "name": "ipython",
    "version": 3
   },
   "file_extension": ".py",
   "mimetype": "text/x-python",
   "name": "python",
   "nbconvert_exporter": "python",
   "pygments_lexer": "ipython3",
   "version": "3.6.3"
  }
 },
 "nbformat": 4,
 "nbformat_minor": 2
}
